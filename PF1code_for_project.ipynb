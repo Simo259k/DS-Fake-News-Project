{
 "cells": [
  {
   "cell_type": "code",
   "execution_count": 65,
   "id": "24d96ec4",
   "metadata": {
    "tags": [
     "Task 1"
    ]
   },
   "outputs": [
    {
     "name": "stdout",
     "output_type": "stream",
     "text": [
      "1162039\n",
      "215589\n",
      "215589\n",
      "142046\n"
     ]
    }
   ],
   "source": [
    "from nltk.tokenize import word_tokenize\n",
    "from nltk.stem import PorterStemmer\n",
    "from nltk.corpus import stopwords\n",
    "\n",
    "global file_path\n",
    "file_path = \"news_sample.txt\"\n",
    "with open(file_path, \"r\", encoding=\"utf-8\") as file:\n",
    "    text = file.read()\n",
    "print(len(text))\n",
    "\n",
    "# Tokenisering af sætning\n",
    "tokens = word_tokenize(text)\n",
    "print(len(tokens))\n",
    "\n",
    "ps = PorterStemmer()\n",
    "stemmed_tokens = [ps.stem(w) for w in tokens]\n",
    "print(len(stemmed_tokens))\n",
    "\n",
    "# Hent stopord\n",
    "stop_words = set(stopwords.words('english'))\n",
    "\n",
    "# Fjern stopord\n",
    "filtered_tokens = [w for w in stemmed_tokens if w.lower() not in stop_words]\n",
    "print(len(filtered_tokens))\n"
   ]
  },
  {
   "cell_type": "markdown",
   "id": "51984631",
   "metadata": {},
   "source": []
  }
 ],
 "metadata": {
  "kernelspec": {
   "display_name": "base",
   "language": "python",
   "name": "python3"
  },
  "language_info": {
   "codemirror_mode": {
    "name": "ipython",
    "version": 3
   },
   "file_extension": ".py",
   "mimetype": "text/x-python",
   "name": "python",
   "nbconvert_exporter": "python",
   "pygments_lexer": "ipython3",
   "version": "3.12.7"
  }
 },
 "nbformat": 4,
 "nbformat_minor": 5
}
