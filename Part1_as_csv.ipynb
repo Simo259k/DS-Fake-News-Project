{
 "cells": [
  {
   "cell_type": "code",
   "execution_count": null,
   "id": "a91d37af",
   "metadata": {},
   "outputs": [
    {
     "name": "stderr",
     "output_type": "stream",
     "text": [
      "[nltk_data] Downloading package punkt to\n",
      "[nltk_data]     C:\\Users\\emilv\\AppData\\Roaming\\nltk_data...\n",
      "[nltk_data]   Package punkt is already up-to-date!\n"
     ]
    },
    {
     "name": "stdout",
     "output_type": "stream",
     "text": [
      "Tokens: 218398\n",
      "Tokens - remowed stop words: 140592\n",
      "Reduction rate after stemming and stop words: 35.625784118902196\n",
      "Tokens - stemmed: 140592\n",
      "Reduction rate after stemming: 0.0\n"
     ]
    }
   ],
   "source": [
    "import pandas as pd\n",
    "import re\n",
    "import nltk\n",
    "from nltk.tokenize import word_tokenize\n",
    "from nltk.stem import PorterStemmer\n",
    "from nltk.corpus import stopwords\n",
    "\n",
    "# Ensure nltk punkt tokenizer is downloaded\n",
    "nltk.download('punkt')\n",
    "\n",
    "# Load CSV \n",
    "file_path = \"news_sample.csv\"\n",
    "textpd = pd.read_csv(file_path, encoding=\"utf-8\")\n",
    "\n",
    "# Define the clean_text function\n",
    "def clean_text(data):\n",
    "    if not isinstance(data, str):  # Handle NaN values safely\n",
    "        return \"\"\n",
    "\n",
    "    # Convert text to lowercase\n",
    "    data = data.lower()\n",
    "\n",
    "    # Remove extra whitespace\n",
    "    data = re.sub(r'\\s+', \" \", data)\n",
    "\n",
    "    # Replace dates\n",
    "    data = re.sub(r'\\d{1,2}[./-]\\d{1,2}[./-]\\d{2,4}', \"<DATE>\", data)\n",
    "    data = re.sub(r'(?:jan|feb|mar|apr|may|jun|jul|aug|sep|oct|nov|dec).? \\d{1,2},? \\d{4}', \"<DATE>\", data)\n",
    "    data = re.sub(r'\\d{4}-\\d{2}-\\d{2}', \"<DATE>\", data)\n",
    "\n",
    "    # Replace emails\n",
    "    data = re.sub(r'[\\w._%+-]+@[\\w.-]+\\.[a-zA-Z]{2,}', \"<EMAIL>\", data)\n",
    "\n",
    "    # Replace URLs\n",
    "    data = re.sub(r'http[s]?://[^\\s]+', \"<URL>\", data)\n",
    "\n",
    "    # Replace numbers\n",
    "    data = re.sub(r'\\d+(\\.\\d+)?', \"<NUM>\", data)\n",
    "\n",
    "    return data\n",
    "\n",
    "#Clean all columns\n",
    "columns_to_clean = [\"id\", \"domain\", \"type\", \"url\", \"content\", \"title\", \"authors\", \"keywords\", \"meta_keywords\", \"meta_description\", \"tags\", \"summary\"]\n",
    "\n",
    "\n",
    "# Apply cleaning to each column\n",
    "for col in columns_to_clean:\n",
    "    if col in textpd.columns:  # Avoid KeyError if column is missing\n",
    "        textpd[col] = textpd[col].astype(str).apply(clean_text)\n",
    "\n",
    "\n",
    "# Combine all cleaned text from DataFrame columns\n",
    "full_text = \" \".join(textpd[col].dropna().astype(str).str.cat(sep=\" \") for col in columns_to_clean if col in textpd.columns)\n",
    "\n",
    "# Tokenize the cleaned text\n",
    "tokens = word_tokenize(full_text)\n",
    "print(\"Tokens:\",len(tokens))\n",
    "\n",
    "# Hent stopord\n",
    "stop_words = set(stopwords.words('english'))\n",
    "\n",
    "# Fjern stopord\n",
    "filtered_tokens = [w for w in tokens if w.lower() not in stop_words]\n",
    "print(\"Tokens - remowed stop words:\",len(filtered_tokens))\n",
    "Reductionrate_after_stemming_and_stopwords = (1-len(filtered_tokens)/len(tokens))*100\n",
    "print(\"Reduction rate after remowing stop words:\",Reductionrate_after_stemming_and_stopwords)\n",
    "\n",
    "ps = PorterStemmer()\n",
    "stemmed_tokens = [ps.stem(w) for w in filtered_tokens]\n",
    "print(\"Tokens - stemmed:\",len(stemmed_tokens))\n",
    "Reductionrate_after_stemming = (1-len(stemmed_tokens)/len(filtered_tokens))*100\n",
    "print(\"Reduction rate after remowed stopwords and stemming:\",Reductionrate_after_stemming)\n",
    "\n"
   ]
  },
  {
   "cell_type": "code",
   "execution_count": null,
   "id": "04553b89-ab8a-4e9f-bd33-0e65554a78ad",
   "metadata": {},
   "outputs": [],
   "source": []
  }
 ],
 "metadata": {
  "kernelspec": {
   "display_name": "my_environment",
   "language": "python",
   "name": "python3"
  },
  "language_info": {
   "codemirror_mode": {
    "name": "ipython",
    "version": 3
   },
   "file_extension": ".py",
   "mimetype": "text/x-python",
   "name": "python",
   "nbconvert_exporter": "python",
   "pygments_lexer": "ipython3",
   "version": "3.11.11"
  }
 },
 "nbformat": 4,
 "nbformat_minor": 5
}
