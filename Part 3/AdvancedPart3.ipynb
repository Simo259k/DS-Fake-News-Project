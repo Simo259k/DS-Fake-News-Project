{
 "cells": [
  {
   "cell_type": "code",
   "execution_count": 2,
   "metadata": {},
   "outputs": [
    {
     "name": "stderr",
     "output_type": "stream",
     "text": [
      "C:\\Users\\emilv\\AppData\\Local\\Temp\\ipykernel_5004\\1609148802.py:13: DtypeWarning: Columns (0,1) have mixed types. Specify dtype option on import or set low_memory=False.\n",
      "  df = pd.read_csv(\"cleaned_file.csv\")\n"
     ]
    },
    {
     "name": "stdout",
     "output_type": "stream",
     "text": [
      "=== SVM Model Results ===\n",
      "              precision    recall  f1-score   support\n",
      "\n",
      "           0       0.85      0.85      0.85      3535\n",
      "           1       0.88      0.88      0.88      4404\n",
      "\n",
      "    accuracy                           0.87      7939\n",
      "   macro avg       0.86      0.86      0.86      7939\n",
      "weighted avg       0.87      0.87      0.87      7939\n",
      "\n",
      "Recall: 0.8814713896457765\n",
      "Accuracy: 0.8662300037788134\n",
      "F1 Score: 0.8796736913664174\n"
     ]
    }
   ],
   "source": [
    "import pandas as pd\n",
    "import ast\n",
    "from sklearn.model_selection import train_test_split\n",
    "from sklearn.pipeline import Pipeline\n",
    "from sklearn.feature_extraction.text import TfidfVectorizer\n",
    "from sklearn.svm import SVC\n",
    "from sklearn.metrics import classification_report, accuracy_score\n",
    "from sklearn.metrics import f1_score\n",
    "from sklearn.metrics import recall_score\n",
    "\n",
    "\n",
    "# Load cleaned data\n",
    "df = pd.read_csv(\"cleaned_file.csv\")\n",
    "df = df.sample(n=50000, random_state=42)\n",
    "\n",
    "# Convert stringified lists back to lists\n",
    "df['content'] = df['content'].apply(ast.literal_eval)\n",
    "\n",
    "# Filter and map 'type' values into binary classification\n",
    "accepted_types = ['fake', 'satire',  'bias', 'conspiracy', 'clickbait','reliable', 'political']\n",
    "df = df[df['type'].notna()]\n",
    "df = df[df['type'].str.lower().isin(accepted_types)]\n",
    "\n",
    "def map_type(x):\n",
    "    x = x.lower()\n",
    "    if x in ['fake', 'satire' ,'conspiracy', 'bias']:\n",
    "        return 0\n",
    "    elif x in ['reliable', 'political', 'clickbait']:\n",
    "        return 1\n",
    "    else:\n",
    "        return None\n",
    "\n",
    "# Create label column\n",
    "df['label'] = df['type'].apply(map_type)\n",
    "\n",
    "# Remove rows with empty tokens\n",
    "df = df[df['content'].map(len) > 0]\n",
    "\n",
    "# Split data\n",
    "X = df['content']\n",
    "y = df['label']\n",
    "X_train, X_test, y_train, y_test = train_test_split(X, y, test_size=0.2, random_state=42)\n",
    "\n",
    "# Define TF-IDF vectorizer for tokenized input\n",
    "tfidf = TfidfVectorizer(\n",
    "    tokenizer=lambda x: x,\n",
    "    preprocessor=lambda x: x,\n",
    "    token_pattern=None,\n",
    "    max_df=0.60,\n",
    "    min_df=5,\n",
    "    ngram_range=(1, 3)\n",
    ")\n",
    "\n",
    "# === SVM Pipeline ===\n",
    "svm_pipeline = Pipeline([\n",
    "    ('tfidf', tfidf),\n",
    "    ('clf', SVC(kernel='linear', C=1.0, probability=True, class_weight='balanced'))\n",
    "])\n",
    "\n",
    "svm_pipeline.fit(X_train, y_train)\n",
    "y_pred_svm = svm_pipeline.predict(X_test)\n",
    "\n",
    "print(\"=== SVM Model Results ===\")\n",
    "print(classification_report(y_test, y_pred_svm))\n",
    "print(\"Recall:\", recall_score(y_test, y_pred_svm))\n",
    "print(\"Accuracy:\", accuracy_score(y_test, y_pred_svm))\n",
    "print(\"F1 Score:\", f1_score(y_test, y_pred_svm))\n"
   ]
  }
 ],
 "metadata": {
  "kernelspec": {
   "display_name": "my_environment",
   "language": "python",
   "name": "python3"
  },
  "language_info": {
   "codemirror_mode": {
    "name": "ipython",
    "version": 3
   },
   "file_extension": ".py",
   "mimetype": "text/x-python",
   "name": "python",
   "nbconvert_exporter": "python",
   "pygments_lexer": "ipython3",
   "version": "3.11.11"
  }
 },
 "nbformat": 4,
 "nbformat_minor": 2
}
