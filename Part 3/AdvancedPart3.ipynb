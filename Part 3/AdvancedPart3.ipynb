{
 "cells": [
  {
   "cell_type": "code",
   "execution_count": 3,
   "metadata": {},
   "outputs": [
    {
     "name": "stderr",
     "output_type": "stream",
     "text": [
      "C:\\Users\\emilv\\AppData\\Local\\Temp\\ipykernel_15316\\485064729.py:15: DtypeWarning: Columns (0) have mixed types. Specify dtype option on import or set low_memory=False.\n",
      "  sample_df = pd.read_csv(FILE, nrows=50000)\n",
      "C:\\Users\\emilv\\AppData\\Local\\Temp\\ipykernel_15316\\485064729.py:45: DtypeWarning: Columns (0) have mixed types. Specify dtype option on import or set low_memory=False.\n",
      "  for i, chunk in enumerate(reader):\n"
     ]
    },
    {
     "name": "stdout",
     "output_type": "stream",
     "text": [
      "Processing chunk 1\n"
     ]
    },
    {
     "name": "stderr",
     "output_type": "stream",
     "text": [
      "C:\\Users\\emilv\\AppData\\Local\\Temp\\ipykernel_15316\\485064729.py:45: DtypeWarning: Columns (0) have mixed types. Specify dtype option on import or set low_memory=False.\n",
      "  for i, chunk in enumerate(reader):\n"
     ]
    },
    {
     "name": "stdout",
     "output_type": "stream",
     "text": [
      "Processing chunk 2\n",
      "Processing chunk 3\n"
     ]
    },
    {
     "name": "stderr",
     "output_type": "stream",
     "text": [
      "C:\\Users\\emilv\\AppData\\Local\\Temp\\ipykernel_15316\\485064729.py:45: DtypeWarning: Columns (0,1) have mixed types. Specify dtype option on import or set low_memory=False.\n",
      "  for i, chunk in enumerate(reader):\n"
     ]
    },
    {
     "name": "stdout",
     "output_type": "stream",
     "text": [
      "Processing chunk 4\n"
     ]
    },
    {
     "name": "stderr",
     "output_type": "stream",
     "text": [
      "C:\\Users\\emilv\\AppData\\Local\\Temp\\ipykernel_15316\\485064729.py:45: DtypeWarning: Columns (0) have mixed types. Specify dtype option on import or set low_memory=False.\n",
      "  for i, chunk in enumerate(reader):\n"
     ]
    },
    {
     "name": "stdout",
     "output_type": "stream",
     "text": [
      "Processing chunk 5\n"
     ]
    },
    {
     "name": "stderr",
     "output_type": "stream",
     "text": [
      "C:\\Users\\emilv\\AppData\\Local\\Temp\\ipykernel_15316\\485064729.py:45: DtypeWarning: Columns (0) have mixed types. Specify dtype option on import or set low_memory=False.\n",
      "  for i, chunk in enumerate(reader):\n"
     ]
    },
    {
     "name": "stdout",
     "output_type": "stream",
     "text": [
      "Processing chunk 6\n"
     ]
    },
    {
     "name": "stderr",
     "output_type": "stream",
     "text": [
      "C:\\Users\\emilv\\AppData\\Local\\Temp\\ipykernel_15316\\485064729.py:45: DtypeWarning: Columns (0) have mixed types. Specify dtype option on import or set low_memory=False.\n",
      "  for i, chunk in enumerate(reader):\n"
     ]
    },
    {
     "name": "stdout",
     "output_type": "stream",
     "text": [
      "Processing chunk 7\n",
      "Processing chunk 8\n"
     ]
    },
    {
     "name": "stderr",
     "output_type": "stream",
     "text": [
      "C:\\Users\\emilv\\AppData\\Local\\Temp\\ipykernel_15316\\485064729.py:45: DtypeWarning: Columns (0) have mixed types. Specify dtype option on import or set low_memory=False.\n",
      "  for i, chunk in enumerate(reader):\n"
     ]
    },
    {
     "name": "stdout",
     "output_type": "stream",
     "text": [
      "Processing chunk 9\n"
     ]
    },
    {
     "name": "stderr",
     "output_type": "stream",
     "text": [
      "C:\\Users\\emilv\\AppData\\Local\\Temp\\ipykernel_15316\\485064729.py:45: DtypeWarning: Columns (0,1) have mixed types. Specify dtype option on import or set low_memory=False.\n",
      "  for i, chunk in enumerate(reader):\n"
     ]
    },
    {
     "name": "stdout",
     "output_type": "stream",
     "text": [
      "Processing chunk 10\n",
      "✅ Finished training on all chunks\n"
     ]
    },
    {
     "name": "stderr",
     "output_type": "stream",
     "text": [
      "C:\\Users\\emilv\\AppData\\Local\\Temp\\ipykernel_15316\\485064729.py:66: DtypeWarning: Columns (0) have mixed types. Specify dtype option on import or set low_memory=False.\n",
      "  eval_df = pd.read_csv(FILE, skiprows=range(1, 800001), nrows=50000)\n"
     ]
    },
    {
     "name": "stdout",
     "output_type": "stream",
     "text": [
      "=== Chunkwise SVM Results ===\n",
      "              precision    recall  f1-score   support\n",
      "\n",
      "           0       0.88      0.79      0.84     15551\n",
      "           1       0.86      0.92      0.89     21022\n",
      "\n",
      "    accuracy                           0.87     36573\n",
      "   macro avg       0.87      0.86      0.86     36573\n",
      "weighted avg       0.87      0.87      0.87     36573\n",
      "\n",
      "Accuracy: 0.868482213654882\n",
      "Recall: 0.9228427361811435\n",
      "F1 Score: 0.8897041962852557\n"
     ]
    }
   ],
   "source": [
    "import pandas as pd\n",
    "import ast\n",
    "import numpy as np\n",
    "from sklearn.feature_extraction.text import TfidfVectorizer\n",
    "from sklearn.linear_model import SGDClassifier\n",
    "from sklearn.metrics import classification_report, accuracy_score, f1_score, recall_score\n",
    "from sklearn.model_selection import train_test_split\n",
    "from sklearn.preprocessing import LabelEncoder\n",
    "\n",
    "# Parameters\n",
    "CHUNKSIZE = 100000  # Tune this if needed\n",
    "FILE = \"cleaned_file.csv\"\n",
    "\n",
    "# Step 1: Prepare TF-IDF vocabulary on a small sample\n",
    "sample_df = pd.read_csv(FILE, nrows=50000)\n",
    "sample_df['content'] = sample_df['content'].apply(ast.literal_eval)\n",
    "sample_df['text'] = sample_df['content'].apply(lambda x: \" \".join(x))\n",
    "\n",
    "# Filter and label\n",
    "accepted_types = ['fake', 'satire', 'bias', 'conspiracy', 'clickbait', 'reliable', 'political']\n",
    "sample_df = sample_df[sample_df['type'].notna()]\n",
    "sample_df = sample_df[sample_df['type'].str.lower().isin(accepted_types)]\n",
    "\n",
    "def map_type(x):\n",
    "    x = x.lower()\n",
    "    return 0 if x in ['fake', 'satire', 'conspiracy', 'bias'] else 1\n",
    "\n",
    "sample_df['label'] = sample_df['type'].apply(map_type)\n",
    "\n",
    "# Fit vectorizer on sample\n",
    "vectorizer = TfidfVectorizer(\n",
    "    max_features=250000,\n",
    "    ngram_range=(1, 3),\n",
    "    min_df=5,\n",
    "    max_df=0.6\n",
    ")\n",
    "vectorizer.fit(sample_df['text'])\n",
    "\n",
    "# Step 2: Train SVM (SGDClassifier) in chunks\n",
    "model = SGDClassifier(loss='hinge', max_iter=5)\n",
    "\n",
    "first_batch = True\n",
    "\n",
    "reader = pd.read_csv(FILE, chunksize=CHUNKSIZE)\n",
    "for i, chunk in enumerate(reader):\n",
    "    print(f\"Processing chunk {i + 1}\")\n",
    "    chunk = chunk[chunk['type'].notna()]\n",
    "    chunk = chunk[chunk['type'].str.lower().isin(accepted_types)]\n",
    "    chunk['content'] = chunk['content'].apply(ast.literal_eval)\n",
    "    chunk['text'] = chunk['content'].apply(lambda x: \" \".join(x))\n",
    "    chunk['label'] = chunk['type'].apply(map_type)\n",
    "\n",
    "    X = vectorizer.transform(chunk['text'])\n",
    "    y = chunk['label']\n",
    "\n",
    "    if first_batch:\n",
    "        model.partial_fit(X, y, classes=np.array([0, 1]))\n",
    "        first_batch = False\n",
    "    else:\n",
    "        model.partial_fit(X, y)\n",
    "\n",
    "print(\"✅ Finished training on all chunks\")\n",
    "\n",
    "# Step 3: Final evaluation on a held-out test set\n",
    "# Sample again for final test\n",
    "eval_df = pd.read_csv(FILE, skiprows=range(1, 800001), nrows=50000)\n",
    "eval_df = eval_df[eval_df['type'].notna()]\n",
    "eval_df = eval_df[eval_df['type'].str.lower().isin(accepted_types)]\n",
    "eval_df['content'] = eval_df['content'].apply(ast.literal_eval)\n",
    "eval_df['text'] = eval_df['content'].apply(lambda x: \" \".join(x))\n",
    "eval_df['label'] = eval_df['type'].apply(map_type)\n",
    "\n",
    "X_test = vectorizer.transform(eval_df['text'])\n",
    "y_test = eval_df['label']\n",
    "y_pred = model.predict(X_test)\n",
    "\n",
    "print(\"=== Chunkwise SVM Results ===\")\n",
    "print(classification_report(y_test, y_pred))\n",
    "print(\"Accuracy:\", accuracy_score(y_test, y_pred))\n",
    "print(\"Recall:\", recall_score(y_test, y_pred))\n",
    "print(\"F1 Score:\", f1_score(y_test, y_pred))\n"
   ]
  },
  {
   "cell_type": "code",
   "execution_count": null,
   "metadata": {},
   "outputs": [
    {
     "name": "stderr",
     "output_type": "stream",
     "text": [
      "C:\\Users\\emilv\\AppData\\Local\\Temp\\ipykernel_15316\\3761009599.py:23: DtypeWarning: Columns (0) have mixed types. Specify dtype option on import or set low_memory=False.\n",
      "  sample_df = pd.read_csv(TRAIN_FILE, nrows=100000)\n"
     ]
    }
   ],
   "source": [
    "import pandas as pd\n",
    "import ast\n",
    "import numpy as np\n",
    "from sklearn.feature_extraction.text import TfidfVectorizer\n",
    "from sklearn.linear_model import SGDClassifier\n",
    "from sklearn.metrics import classification_report, accuracy_score, f1_score, recall_score\n",
    "\n",
    "# Filnavne\n",
    "TRAIN_FILE = \"X_train.csv\"\n",
    "TEST_FILE = \"X_test.csv\"\n",
    "# VAL_FILE = \"val.csv\"  # Ikke brugt i dette script\n",
    "\n",
    "CHUNKSIZE = 100000  # Tilpas hvis nødvendigt\n",
    "\n",
    "# Hjælpefunktion\n",
    "def map_type(x):\n",
    "    x = x.lower()\n",
    "    return 0 if x in ['fake', 'satire', 'conspiracy', 'bias'] else 1\n",
    "\n",
    "accepted_types = ['fake', 'satire', 'bias', 'conspiracy', 'clickbait', 'reliable', 'political']\n",
    "\n",
    "# --- 1. Fit TF-IDF på et lille sample ---\n",
    "sample_df = pd.read_csv(TRAIN_FILE, nrows=100000)\n",
    "sample_df = sample_df[sample_df['type'].notna()]\n",
    "sample_df = sample_df[sample_df['type'].str.lower().isin(accepted_types)]\n",
    "sample_df['content'] = sample_df['content'].apply(ast.literal_eval)\n",
    "sample_df['text'] = sample_df['content'].apply(lambda x: \" \".join(x))\n",
    "\n",
    "vectorizer = TfidfVectorizer(\n",
    "    max_features=250000,\n",
    "    ngram_range=(1, 3),\n",
    "    min_df=5,\n",
    "    max_df=0.6\n",
    ")\n",
    "vectorizer.fit(sample_df['text'])\n",
    "\n",
    "# --- 2. Træn SVM (SGD) i chunks ---\n",
    "model = SGDClassifier(loss='hinge', max_iter=5, random_state=42)\n",
    "first_batch = True\n",
    "\n",
    "reader = pd.read_csv(TRAIN_FILE, chunksize=CHUNKSIZE)\n",
    "\n",
    "for i, chunk in enumerate(reader):\n",
    "    print(f\"✅ Træner på chunk {i + 1}\")\n",
    "    chunk = chunk[chunk['type'].notna()]\n",
    "    chunk = chunk[chunk['type'].str.lower().isin(accepted_types)]\n",
    "    chunk['content'] = chunk['content'].apply(ast.literal_eval)\n",
    "    chunk['text'] = chunk['content'].apply(lambda x: \" \".join(x))\n",
    "    chunk['label'] = chunk['type'].apply(map_type)\n",
    "\n",
    "    X = vectorizer.transform(chunk['text'])\n",
    "    y = chunk['label']\n",
    "\n",
    "    if first_batch:\n",
    "        model.partial_fit(X, y, classes=np.array([0, 1]))\n",
    "        first_batch = False\n",
    "    else:\n",
    "        model.partial_fit(X, y)\n",
    "\n",
    "print(\"Træning færdig!\")\n",
    "\n",
    "# --- 3. Test modellen på hele test.csv ---\n",
    "test_df = pd.read_csv(TEST_FILE)\n",
    "test_df = test_df[test_df['type'].notna()]\n",
    "test_df = test_df[test_df['type'].str.lower().isin(accepted_types)]\n",
    "test_df['content'] = test_df['content'].apply(ast.literal_eval)\n",
    "test_df['text'] = test_df['content'].apply(lambda x: \" \".join(x))\n",
    "test_df['label'] = test_df['type'].apply(map_type)\n",
    "\n",
    "X_test = vectorizer.transform(test_df['text'])\n",
    "y_test = test_df['label']\n",
    "y_pred = model.predict(X_test)\n",
    "\n",
    "# --- 4. Evaluering ---\n",
    "print(\"=== Evaluering på test.csv ===\")\n",
    "print(classification_report(y_test, y_pred))\n",
    "print(\"Accuracy:\", accuracy_score(y_test, y_pred))\n",
    "print(\"Recall:\", recall_score(y_test, y_pred))\n",
    "print(\"F1 Score:\", f1_score(y_test, y_pred))\n",
    "\n"
   ]
  }
 ],
 "metadata": {
  "kernelspec": {
   "display_name": "my_environment",
   "language": "python",
   "name": "python3"
  },
  "language_info": {
   "codemirror_mode": {
    "name": "ipython",
    "version": 3
   },
   "file_extension": ".py",
   "mimetype": "text/x-python",
   "name": "python",
   "nbconvert_exporter": "python",
   "pygments_lexer": "ipython3",
   "version": "3.11.11"
  }
 },
 "nbformat": 4,
 "nbformat_minor": 2
}
